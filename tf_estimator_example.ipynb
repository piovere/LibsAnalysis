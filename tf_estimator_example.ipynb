{
 "cells": [
  {
   "cell_type": "code",
   "execution_count": 1,
   "metadata": {
    "collapsed": true
   },
   "outputs": [],
   "source": [
    "import tensorflow as tf\n",
    "import numpy as np"
   ]
  },
  {
   "cell_type": "code",
   "execution_count": 2,
   "metadata": {},
   "outputs": [],
   "source": [
    "feature_columns = [tf.feature_column.numeric_column(\"x\", shape=[1])]"
   ]
  },
  {
   "cell_type": "code",
   "execution_count": 3,
   "metadata": {},
   "outputs": [
    {
     "data": {
      "text/plain": [
       "'1.3.0'"
      ]
     },
     "execution_count": 3,
     "metadata": {},
     "output_type": "execute_result"
    }
   ],
   "source": [
    "tf.__version__"
   ]
  },
  {
   "cell_type": "code",
   "execution_count": 4,
   "metadata": {},
   "outputs": [
    {
     "name": "stdout",
     "output_type": "stream",
     "text": [
      "INFO:tensorflow:Using default config.\n",
      "WARNING:tensorflow:Using temporary folder as model directory: /var/folders/6d/8dwv_2992bl08cfzzswr7_q00000gn/T/tmp97qxd3ed\n",
      "INFO:tensorflow:Using config: {'_keep_checkpoint_every_n_hours': 10000, '_log_step_count_steps': 100, '_keep_checkpoint_max': 5, '_save_checkpoints_steps': None, '_save_summary_steps': 100, '_tf_random_seed': 1, '_session_config': None, '_save_checkpoints_secs': 600, '_model_dir': '/var/folders/6d/8dwv_2992bl08cfzzswr7_q00000gn/T/tmp97qxd3ed'}\n"
     ]
    }
   ],
   "source": [
    "estimator = tf.estimator.LinearRegressor(feature_columns=feature_columns)"
   ]
  },
  {
   "cell_type": "code",
   "execution_count": 5,
   "metadata": {
    "collapsed": true
   },
   "outputs": [],
   "source": [
    "x_train = np.array([1., 2., 3., 4.])\n",
    "y_train = np.array([0., -1., -2., -3.])\n",
    "x_eval = np.array([2., 5., 8., 1.])\n",
    "y_eval = np.array([-1.01, -4.1, -7, 0.])\n",
    "input_fn = tf.estimator.inputs.numpy_input_fn(\n",
    "    {\"x\": x_train}, y_train, batch_size=4, num_epochs=None, shuffle=True\n",
    ")\n",
    "train_input_fn = tf.estimator.inputs.numpy_input_fn(\n",
    "    {\"x\": x_train}, y_train, batch_size=4, num_epochs=1000, shuffle=False\n",
    ")\n",
    "eval_input_fn = tf.estimator.inputs.numpy_input_fn(\n",
    "    {\"x\": x_eval}, y_eval, batch_size=4, num_epochs=1000, shuffle=False\n",
    ")"
   ]
  },
  {
   "cell_type": "code",
   "execution_count": 6,
   "metadata": {},
   "outputs": [
    {
     "name": "stdout",
     "output_type": "stream",
     "text": [
      "INFO:tensorflow:Create CheckpointSaverHook.\n",
      "INFO:tensorflow:Saving checkpoints for 1 into /var/folders/6d/8dwv_2992bl08cfzzswr7_q00000gn/T/tmp97qxd3ed/model.ckpt.\n",
      "INFO:tensorflow:step = 1, loss = 22.0\n",
      "INFO:tensorflow:global_step/sec: 1014.51\n",
      "INFO:tensorflow:step = 101, loss = 0.706991 (0.101 sec)\n",
      "INFO:tensorflow:global_step/sec: 1095.76\n",
      "INFO:tensorflow:step = 201, loss = 0.182124 (0.090 sec)\n",
      "INFO:tensorflow:global_step/sec: 1091.11\n",
      "INFO:tensorflow:step = 301, loss = 0.0361083 (0.092 sec)\n",
      "INFO:tensorflow:global_step/sec: 1093.9\n",
      "INFO:tensorflow:step = 401, loss = 0.00178325 (0.091 sec)\n",
      "INFO:tensorflow:global_step/sec: 1095.29\n",
      "INFO:tensorflow:step = 501, loss = 0.00263873 (0.091 sec)\n",
      "INFO:tensorflow:global_step/sec: 1104.85\n",
      "INFO:tensorflow:step = 601, loss = 0.000559266 (0.090 sec)\n",
      "INFO:tensorflow:global_step/sec: 1078.4\n",
      "INFO:tensorflow:step = 701, loss = 0.000339233 (0.093 sec)\n",
      "INFO:tensorflow:global_step/sec: 1105.62\n",
      "INFO:tensorflow:step = 801, loss = 0.000113098 (0.090 sec)\n",
      "INFO:tensorflow:global_step/sec: 1094.2\n",
      "INFO:tensorflow:step = 901, loss = 2.39115e-05 (0.091 sec)\n",
      "INFO:tensorflow:Saving checkpoints for 1000 into /var/folders/6d/8dwv_2992bl08cfzzswr7_q00000gn/T/tmp97qxd3ed/model.ckpt.\n",
      "INFO:tensorflow:Loss for final step: 9.33032e-06.\n"
     ]
    },
    {
     "data": {
      "text/plain": [
       "<tensorflow.python.estimator.canned.linear.LinearRegressor at 0x110febe10>"
      ]
     },
     "execution_count": 6,
     "metadata": {},
     "output_type": "execute_result"
    }
   ],
   "source": [
    "estimator.train(input_fn=input_fn, steps=1000)"
   ]
  },
  {
   "cell_type": "code",
   "execution_count": 7,
   "metadata": {},
   "outputs": [
    {
     "name": "stdout",
     "output_type": "stream",
     "text": [
      "INFO:tensorflow:Starting evaluation at 2017-09-27-20:14:18\n",
      "INFO:tensorflow:Restoring parameters from /var/folders/6d/8dwv_2992bl08cfzzswr7_q00000gn/T/tmp97qxd3ed/model.ckpt-1000\n",
      "INFO:tensorflow:Finished evaluation at 2017-09-27-20:14:19\n",
      "INFO:tensorflow:Saving dict for global step 1000: average_loss = 1.76462e-06, global_step = 1000, loss = 7.05846e-06\n",
      "INFO:tensorflow:Starting evaluation at 2017-09-27-20:14:19\n",
      "INFO:tensorflow:Restoring parameters from /var/folders/6d/8dwv_2992bl08cfzzswr7_q00000gn/T/tmp97qxd3ed/model.ckpt-1000\n",
      "INFO:tensorflow:Finished evaluation at 2017-09-27-20:14:20\n",
      "INFO:tensorflow:Saving dict for global step 1000: average_loss = 0.00265653, global_step = 1000, loss = 0.0106261\n",
      "train metrics: {'global_step': 1000, 'average_loss': 1.7646155e-06, 'loss': 7.058462e-06}\n",
      "eval metrics: {'global_step': 1000, 'average_loss': 0.0026565313, 'loss': 0.010626125}\n"
     ]
    }
   ],
   "source": [
    "train_metrics = estimator.evaluate(input_fn=train_input_fn)\n",
    "eval_metrics = estimator.evaluate(input_fn=eval_input_fn)\n",
    "print(\"train metrics: %r\" % train_metrics)\n",
    "print(\"eval metrics: %r\" % eval_metrics)"
   ]
  },
  {
   "cell_type": "code",
   "execution_count": null,
   "metadata": {
    "collapsed": true
   },
   "outputs": [],
   "source": []
  }
 ],
 "metadata": {
  "kernelspec": {
   "display_name": "Python 3",
   "language": "python",
   "name": "python3"
  },
  "language_info": {
   "codemirror_mode": {
    "name": "ipython",
    "version": 3
   },
   "file_extension": ".py",
   "mimetype": "text/x-python",
   "name": "python",
   "nbconvert_exporter": "python",
   "pygments_lexer": "ipython3",
   "version": "3.5.4"
  }
 },
 "nbformat": 4,
 "nbformat_minor": 2
}
